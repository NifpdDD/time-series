{
 "cells": [
  {
   "cell_type": "code",
   "execution_count": 14,
   "metadata": {
    "ExecuteTime": {
     "end_time": "2024-01-23T14:45:33.575907500Z",
     "start_time": "2024-01-23T14:45:33.519908800Z"
    }
   },
   "outputs": [],
   "source": [
    "import pandas as pd\n",
    "import matplotlib.pyplot  as plt\n",
    "import os"
   ]
  },
  {
   "cell_type": "code",
   "execution_count": 15,
   "metadata": {
    "ExecuteTime": {
     "end_time": "2024-01-23T14:45:33.648920900Z",
     "start_time": "2024-01-23T14:45:33.527910500Z"
    }
   },
   "outputs": [],
   "source": [
    "train_test = pd.read_csv('data/manual_30min_norm.csv')\n",
    "validation = pd.read_csv(\"data/iiot_30min_norm.csv\")"
   ]
  },
  {
   "cell_type": "code",
   "execution_count": 16,
   "metadata": {
    "ExecuteTime": {
     "end_time": "2024-01-23T14:45:33.664498400Z",
     "start_time": "2024-01-23T14:45:33.651924700Z"
    }
   },
   "outputs": [],
   "source": [
    "def data_split(train_test, param=\"1\", train_percentage=0.67):\n",
    "    timeseries = train_test[train_test.columns[int(param)]].values.astype('float32')\n",
    "    train_size = int(len(timeseries) * train_percentage)\n",
    "    train, test = timeseries[:train_size], timeseries[train_size:]\n",
    "    return train, test, timeseries"
   ]
  },
  {
   "cell_type": "code",
   "execution_count": 17,
   "metadata": {
    "ExecuteTime": {
     "end_time": "2024-01-23T14:45:33.690529100Z",
     "start_time": "2024-01-23T14:45:33.667500900Z"
    }
   },
   "outputs": [],
   "source": [
    "import torch\n",
    "\n",
    "lookback = 1\n",
    "def create_dataset(dataset, lookback):\n",
    "    X, y = [], []\n",
    "    for i in range(len(dataset) - lookback):\n",
    "        feature = dataset[i:i + lookback]\n",
    "        target = dataset[i + 1:i + lookback + 1]\n",
    "        X.append(feature)\n",
    "        y.append(target)\n",
    "    return torch.tensor(X), torch.tensor(y)"
   ]
  },
  {
   "cell_type": "code",
   "execution_count": 18,
   "metadata": {
    "ExecuteTime": {
     "end_time": "2024-01-23T14:45:33.949531600Z",
     "start_time": "2024-01-23T14:45:33.682530100Z"
    }
   },
   "outputs": [],
   "source": [
    "train, test, total = data_split(train_test)\n",
    "\n",
    "X_train, y_train = create_dataset(train, lookback=lookback)\n",
    "X_test, y_test = create_dataset(test, lookback=lookback)"
   ]
  },
  {
   "cell_type": "code",
   "execution_count": 19,
   "metadata": {
    "ExecuteTime": {
     "end_time": "2024-01-23T14:45:33.964530500Z",
     "start_time": "2024-01-23T14:45:33.952531700Z"
    }
   },
   "outputs": [],
   "source": [
    "import torch.nn as nn\n",
    " \n",
    "class AirModel(nn.Module):\n",
    "    def __init__(self):\n",
    "        super().__init__()\n",
    "        self.lstm = nn.LSTM(input_size=1, hidden_size=50, num_layers=1, batch_first=True)\n",
    "        self.linear = nn.Linear(50, 1)\n",
    "    def forward(self, x):\n",
    "        x, _ = self.lstm(x)\n",
    "        x = self.linear(x)\n",
    "        return x"
   ]
  },
  {
   "cell_type": "code",
   "execution_count": 20,
   "metadata": {
    "ExecuteTime": {
     "end_time": "2024-01-23T14:45:33.993534100Z",
     "start_time": "2024-01-23T14:45:33.967531300Z"
    }
   },
   "outputs": [],
   "source": [
    "import numpy as np\n",
    "import torch.optim as optim\n",
    "import torch.utils.data as torch_data\n",
    " \n",
    "model = AirModel()\n",
    "optimizer = optim.Adam(model.parameters())\n",
    "loss_fn = nn.MSELoss()\n",
    "loader = torch_data.DataLoader(torch_data.TensorDataset(X_train, y_train), shuffle=True, batch_size=8)\n",
    "\n",
    "EPOCHS = 30"
   ]
  },
  {
   "cell_type": "code",
   "execution_count": 21,
   "metadata": {
    "ExecuteTime": {
     "end_time": "2024-01-23T14:45:34.005530Z",
     "start_time": "2024-01-23T14:45:33.985533200Z"
    }
   },
   "outputs": [],
   "source": [
    "def train_model(model, X_train, X_test, y_train, y_test, n_epochs):\n",
    "    y_pred_train = None\n",
    "    y_pred_test = None\n",
    "\n",
    "    for epoch in range(1, n_epochs + 1):\n",
    "        model.train()\n",
    "        for X_batch, y_batch in loader:\n",
    "            y_pred = model(X_batch)\n",
    "            loss = loss_fn(y_pred, y_batch)\n",
    "            optimizer.zero_grad()\n",
    "            loss.backward()\n",
    "            optimizer.step()\n",
    "\n",
    "        model.eval()\n",
    "        with torch.no_grad():\n",
    "            y_pred_train = model(X_train)\n",
    "            train_rmse = np.sqrt(loss_fn(y_pred_train, y_train))\n",
    "            \n",
    "            y_pred_test = model(X_test)\n",
    "            test_rmse = np.sqrt(loss_fn(y_pred_test, y_test))\n",
    "\n",
    "        print(\"Epoch %d: train RMSE %.4f, test RMSE %.4f\" % (epoch, train_rmse, test_rmse))\n",
    "\n",
    "    return y_pred_train, y_pred_test, model\n"
   ]
  },
  {
   "cell_type": "code",
   "execution_count": 22,
   "metadata": {
    "ExecuteTime": {
     "end_time": "2024-01-23T14:56:10.610588400Z",
     "start_time": "2024-01-23T14:45:33.997530200Z"
    }
   },
   "outputs": [
    {
     "name": "stdout",
     "output_type": "stream",
     "text": [
      "Epoch 1: train RMSE 0.0053, test RMSE 0.0058\n",
      "Epoch 2: train RMSE 0.0018, test RMSE 0.0019\n",
      "Epoch 3: train RMSE 0.0018, test RMSE 0.0018\n",
      "Epoch 4: train RMSE 0.0017, test RMSE 0.0017\n",
      "Epoch 5: train RMSE 0.0023, test RMSE 0.0025\n",
      "Epoch 6: train RMSE 0.0021, test RMSE 0.0021\n",
      "Epoch 7: train RMSE 0.0015, test RMSE 0.0016\n",
      "Epoch 8: train RMSE 0.0016, test RMSE 0.0017\n",
      "Epoch 9: train RMSE 0.0016, test RMSE 0.0017\n",
      "Epoch 10: train RMSE 0.0017, test RMSE 0.0019\n",
      "Epoch 11: train RMSE 0.0016, test RMSE 0.0016\n",
      "Epoch 12: train RMSE 0.0029, test RMSE 0.0031\n",
      "Epoch 13: train RMSE 0.0015, test RMSE 0.0016\n",
      "Epoch 14: train RMSE 0.0016, test RMSE 0.0017\n",
      "Epoch 15: train RMSE 0.0024, test RMSE 0.0025\n",
      "Epoch 16: train RMSE 0.0022, test RMSE 0.0024\n",
      "Epoch 17: train RMSE 0.0025, test RMSE 0.0028\n",
      "Epoch 18: train RMSE 0.0029, test RMSE 0.0032\n",
      "Epoch 19: train RMSE 0.0029, test RMSE 0.0030\n",
      "Epoch 20: train RMSE 0.0030, test RMSE 0.0030\n",
      "Epoch 21: train RMSE 0.0025, test RMSE 0.0026\n",
      "Epoch 22: train RMSE 0.0026, test RMSE 0.0027\n",
      "Epoch 23: train RMSE 0.0016, test RMSE 0.0017\n",
      "Epoch 24: train RMSE 0.0032, test RMSE 0.0033\n",
      "Epoch 25: train RMSE 0.0018, test RMSE 0.0019\n",
      "Epoch 26: train RMSE 0.0015, test RMSE 0.0016\n",
      "Epoch 27: train RMSE 0.0024, test RMSE 0.0025\n",
      "Epoch 28: train RMSE 0.0017, test RMSE 0.0018\n",
      "Epoch 29: train RMSE 0.0018, test RMSE 0.0019\n",
      "Epoch 30: train RMSE 0.0015, test RMSE 0.0016\n"
     ]
    }
   ],
   "source": [
    "y_pred_train, y_pred_test, model = train_model(model, X_train, X_test, y_train, y_test, EPOCHS)"
   ]
  },
  {
   "cell_type": "code",
   "execution_count": 23,
   "metadata": {
    "ExecuteTime": {
     "end_time": "2024-01-23T14:56:10.621762600Z",
     "start_time": "2024-01-23T14:56:10.609587600Z"
    }
   },
   "outputs": [],
   "source": [
    "import numpy as np\n",
    "from sklearn.metrics import mean_absolute_error, mean_squared_error, r2_score\n",
    "from math import sqrt\n",
    "\n",
    "def mean_absolute_percentage_error(y_true, y_pred):\n",
    "    return np.mean(np.abs((y_true - y_pred) / y_true)) * 100\n",
    "\n",
    "def validate(true, pred):\n",
    "    true = pd.DataFrame(true.flatten().numpy())[0]\n",
    "    pred = pd.DataFrame(pred.flatten().numpy())[0]\n",
    "    print(\"MSE:\", mean_squared_error(true, pred))\n",
    "    print(\"RMSE:\", sqrt(mean_squared_error(true, pred)))\n",
    "    print(\"MAE:\", mean_absolute_error(true, pred))\n",
    "    print(\"MAPE:\", mean_absolute_percentage_error(true, pred))\n",
    "    print(\"R2:\", r2_score(true, pred))"
   ]
  },
  {
   "cell_type": "code",
   "execution_count": 24,
   "metadata": {
    "ExecuteTime": {
     "end_time": "2024-01-23T14:56:10.648304400Z",
     "start_time": "2024-01-23T14:56:10.625277Z"
    }
   },
   "outputs": [],
   "source": [
    "def plot_train_n_pred(X_train, X_test, total, model):\n",
    "    with torch.no_grad():\n",
    "        train_plot = np.ones_like(total) * np.nan\n",
    "        y_pred = model(X_train)\n",
    "        y_pred = y_pred[:, -1]\n",
    "        train_size = len(X_train)\n",
    "        train_plot[lookback:train_size + 1] = model(X_train)[:, -1]\n",
    "        test_plot = np.ones_like(total) * np.nan\n",
    "        test_plot[train_size + lookback:len(total) - 1] = model(X_test)[:, -1]\n",
    "\n",
    "    plt.rcParams[\"figure.figsize\"] = [12, 7]\n",
    "    plt.plot(total, c='b')\n",
    "    plt.plot(train_plot, c='r')\n",
    "    plt.plot(test_plot, c='g')\n",
    "    plt.show()"
   ]
  },
  {
   "cell_type": "code",
   "execution_count": 25,
   "metadata": {
    "ExecuteTime": {
     "end_time": "2024-01-23T14:56:10.655817100Z",
     "start_time": "2024-01-23T14:56:10.637788300Z"
    }
   },
   "outputs": [],
   "source": [
    "def validate_on_measurement(model):\n",
    "    valid_train, valid_test, valid_total = data_split(validation)\n",
    "                \n",
    "    X_train, _ = create_dataset(valid_train, lookback=lookback)\n",
    "    X_test, y_test = create_dataset(valid_test, lookback=lookback)\n",
    "\n",
    "    y_pred = model(X_test)\n",
    "    y_pred_test = y_pred\n",
    "    \n",
    "    print(f\"Метрики:\")\n",
    "    try:\n",
    "        validate(y_pred_test, y_test)\n",
    "    except:\n",
    "        validate(y_pred_test.detach(), y_test.detach())\n",
    "    plot_train_n_pred(X_train, X_test, valid_total, model)"
   ]
  },
  {
   "cell_type": "code",
   "execution_count": 26,
   "metadata": {
    "ExecuteTime": {
     "end_time": "2024-01-23T14:56:10.824284800Z",
     "start_time": "2024-01-23T14:56:10.656818500Z"
    }
   },
   "outputs": [
    {
     "name": "stdout",
     "output_type": "stream",
     "text": [
      "Метрики:\n",
      "MSE: 0.0017610048\n",
      "RMSE: 0.041964327641331386\n",
      "MAE: 0.010335383\n",
      "MAPE: 3.0991699546575546\n",
      "R2: 0.8329422468365042\n"
     ]
    },
    {
     "data": {
      "text/plain": "<Figure size 1200x700 with 1 Axes>",
      "image/png": "[encoded data removed]"
     },
     "metadata": {},
     "output_type": "display_data"
    }
   ],
   "source": [
    "validate_on_measurement(model)"
   ]
  }
 ],
 "metadata": {
  "kernelspec": {
   "display_name": "Python 3",
   "language": "python",
   "name": "python3"
  },
  "language_info": {
   "codemirror_mode": {
    "name": "ipython",
    "version": 3
   },
   "file_extension": ".py",
   "mimetype": "text/x-python",
   "name": "python",
   "nbconvert_exporter": "python",
   "pygments_lexer": "ipython3",
   "version": "3.12.1"
  }
 },
 "nbformat": 4,
 "nbformat_minor": 2
}
